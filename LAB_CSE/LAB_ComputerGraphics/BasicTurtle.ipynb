{
 "cells": [
  {
   "attachments": {},
   "cell_type": "markdown",
   "metadata": {},
   "source": [
    "#### Importing turtle\n"
   ]
  },
  {
   "cell_type": "code",
   "execution_count": 1,
   "metadata": {},
   "outputs": [],
   "source": [
    "from turtle import Turtle, Screen\n"
   ]
  },
  {
   "attachments": {},
   "cell_type": "markdown",
   "metadata": {},
   "source": [
    "##### endless box shape\n"
   ]
  },
  {
   "cell_type": "code",
   "execution_count": 2,
   "metadata": {},
   "outputs": [],
   "source": [
    "t = Turtle()\n",
    "screen = Screen()\n",
    "t.shape(\"turtle\")\n",
    "t.speed(0)\n",
    "s = 1\n",
    "\n",
    "for i in range(100):\n",
    "    s = s + (i / 5)\n",
    "    t.forward(s)\n",
    "    t.right(90)\n",
    "\n",
    "    s = s + (i / 5)\n",
    "    t.forward(s)\n",
    "    t.right(90)\n",
    "\n",
    "    s = s + (i / 5)\n",
    "    t.forward(s)\n",
    "    t.right(90)\n",
    "\n",
    "    s = s + (i / 5)\n",
    "    t.forward(s)\n",
    "    t.right(90)\n",
    "\n",
    "screen.exitonclick()\n"
   ]
  },
  {
   "attachments": {},
   "cell_type": "markdown",
   "metadata": {},
   "source": [
    "##### 1.Square\n"
   ]
  },
  {
   "cell_type": "code",
   "execution_count": 4,
   "metadata": {},
   "outputs": [],
   "source": [
    "t = Turtle()\n",
    "screen = Screen()\n",
    "t.speed(5)\n",
    "\n",
    "for i in range(4):\n",
    "    t.forward(100)\n",
    "    t.right(90)\n",
    "\n",
    "\n",
    "screen.exitonclick()\n"
   ]
  },
  {
   "attachments": {},
   "cell_type": "markdown",
   "metadata": {},
   "source": [
    "##### 2.Triangle\n"
   ]
  },
  {
   "cell_type": "code",
   "execution_count": 6,
   "metadata": {},
   "outputs": [],
   "source": [
    "t = Turtle()\n",
    "screen = Screen()\n",
    "t.speed(5)\n",
    "an = 180\n",
    "for i in range(3):\n",
    "    t.forward(100)\n",
    "    t.right(120)\n",
    "\n",
    "screen.exitonclick()"
   ]
  },
  {
   "attachments": {},
   "cell_type": "markdown",
   "metadata": {},
   "source": [
    "##### 3. Dash-line\n"
   ]
  },
  {
   "cell_type": "code",
   "execution_count": 8,
   "metadata": {},
   "outputs": [],
   "source": [
    "t = Turtle()\n",
    "screen = Screen()\n",
    "t.speed(8)\n",
    "\n",
    "\n",
    "def dash_line(len, dash):\n",
    "    for i in range(len):\n",
    "        t.forward(dash)\n",
    "        t.penup()\n",
    "        t.forward(dash)\n",
    "        t.pendown()\n",
    "\n",
    "\n",
    "dash_line(20, 1)\n",
    "t.right(90)\n",
    "\n",
    "dash_line(20, 1)\n",
    "t.right(90)\n"
   ]
  }
 ],
 "metadata": {
  "kernelspec": {
   "display_name": "Python 3",
   "language": "python",
   "name": "python3"
  },
  "language_info": {
   "codemirror_mode": {
    "name": "ipython",
    "version": 3
   },
   "file_extension": ".py",
   "mimetype": "text/x-python",
   "name": "python",
   "nbconvert_exporter": "python",
   "pygments_lexer": "ipython3",
   "version": "3.11.4"
  },
  "orig_nbformat": 4
 },
 "nbformat": 4,
 "nbformat_minor": 2
}
