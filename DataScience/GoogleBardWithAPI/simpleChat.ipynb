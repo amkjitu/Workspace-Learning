{
 "cells": [
  {
   "cell_type": "code",
   "execution_count": null,
   "metadata": {},
   "outputs": [],
   "source": [
    "# from os import environ\n",
    "# from nest_asyncio import apply\n",
    "# from Bard import Chatbot\n",
    "\n",
    "# BARD__Secure_1PSID = 'aQjkP0r0yQVSvsWDFMUo6LodxFOtV-wKULievNDCDMF1enS3BR7rm-uwjL94VDVEJf3vFg.'\n",
    "\n",
    "# BARD__Secure_1PSIDTS = 'sidts-CjEBSAxbGdOy-Lym7S7tjS2m3qDPMWnSWIRoiqZjd-EK_D8QMAX-fDxwcQ-C049tg1RREAA'\n",
    "\n",
    "# Secure_1PSID = environ.get('aQjkP0r0yQVSvsWDFMUo6LodxFOtV-wKULievNDCDMF1enS3BR7rm-uwjL94VDVEJf3vFg.')\n",
    "# Secure_1PSIDTS = environ.get('sidts-CjEBSAxbGdYPsS-tXTJOUvtAgRGwPeIxKm0yNRoI3krK-EGMS58zV98gKYO3C-Y4RWnPEAA')\n",
    "\n",
    "\n",
    "# apply()\n",
    "# chatbot = Chatbot(Secure_1PSID, Secure_1PSIDTS,)\n",
    "# chatbot.ask(\"Hello, how are you?\")\n"
   ]
  },
  {
   "cell_type": "code",
   "execution_count": null,
   "metadata": {},
   "outputs": [],
   "source": [
    "import requests\n",
    "from bardapi.constants import SESSION_HEADERS\n",
    "from bardapi import Bard\n",
    "\n",
    "token = \"aQjkP0r0yQVSvsWDFMUo6LodxFOtV-wKULievNDCDMF1enS3BR7rm-uwjL94VDVEJf3vFg.\"\n",
    "\n",
    "session = requests.Session()\n",
    "session.headers = SESSION_HEADERS\n",
    "session.cookies.set(\"__Secure-1PSID\", token)\n",
    "session.cookies.set(\"__Secure-1PSIDTS\", \"sidts-CjEBSAxbGb4jyT6Hi7KNJUirbuF8acCqKvl242VAZAQZElr2SGeLu4IMifbHGx1iffnEEAA\")\n",
    "session.cookies.set(\"__Secure-1PSIDCC\", \"APoG2W-lVJgbmaGv3b44ACidNIAkyzOJSLoSZ9GN154934CJLo-z-Rg9v-TuENRn1X82eJe-0y_E\")\n",
    "\n",
    "disease = \"Rice Blast\"\n",
    "bard = Bard(token=token, session=session, language=\"bengali\")\n",
    "\n",
    "result = bard.get_answer(\"What is cure of this \" +disease+ \"disease ?\")['content']\n",
    "print(result)"
   ]
  },
  {
   "cell_type": "markdown",
   "metadata": {},
   "source": [
    "Getting cookie from a specific domain"
   ]
  },
  {
   "cell_type": "code",
   "execution_count": 42,
   "metadata": {},
   "outputs": [
    {
     "name": "stdout",
     "output_type": "stream",
     "text": [
      "<RequestsCookieJar[<Cookie __cf_bm=RbDPhXzwvm9UmGE3tDclChUqtmFkk_3TibVHOF__9zo-1693682332-0-AdWJwi9t3U0ifwdBi7iOcbe2kRePuDwVcqrCnwbFZ0WzBP3qf5f3YLjfJfF1CprqnDTXB3wnETKSS8Fxyje+ggE= for .chat.openai.com/>]>\n"
     ]
    }
   ],
   "source": [
    "import urllib.request as urllib2\n",
    "import browser_cookie3\n",
    "import requests\n",
    "#url = 'https://bard.google.com/'\n",
    "url = 'https://chat.openai.com/'\n",
    "#cj = browser_cookie3.edge(domain_name='bard.google.com')\n",
    "cj = browser_cookie3.edge(domain_name='chat.openai.com')\n",
    "r = requests.get(url, cookies=cj)\n",
    "#print(r.content)\n",
    "print(r.cookies)\n",
    "#urllib2.get_title(r.content)\n",
    "#'richardpenman / home &mdash; Bitbucket'"
   ]
  }
 ],
 "metadata": {
  "kernelspec": {
   "display_name": "Python 3",
   "language": "python",
   "name": "python3"
  },
  "language_info": {
   "codemirror_mode": {
    "name": "ipython",
    "version": 3
   },
   "file_extension": ".py",
   "mimetype": "text/x-python",
   "name": "python",
   "nbconvert_exporter": "python",
   "pygments_lexer": "ipython3",
   "version": "3.11.4"
  },
  "orig_nbformat": 4
 },
 "nbformat": 4,
 "nbformat_minor": 2
}
