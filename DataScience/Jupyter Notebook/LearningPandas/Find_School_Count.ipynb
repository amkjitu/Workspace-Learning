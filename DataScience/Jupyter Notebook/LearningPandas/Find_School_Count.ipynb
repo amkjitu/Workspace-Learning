{
 "cells": [
  {
   "cell_type": "code",
   "execution_count": 85,
   "metadata": {},
   "outputs": [
    {
     "data": {
      "text/html": [
       "<div>\n",
       "<style scoped>\n",
       "    .dataframe tbody tr th:only-of-type {\n",
       "        vertical-align: middle;\n",
       "    }\n",
       "\n",
       "    .dataframe tbody tr th {\n",
       "        vertical-align: top;\n",
       "    }\n",
       "\n",
       "    .dataframe thead th {\n",
       "        text-align: right;\n",
       "    }\n",
       "</style>\n",
       "<table border=\"1\" class=\"dataframe\">\n",
       "  <thead>\n",
       "    <tr style=\"text-align: right;\">\n",
       "      <th></th>\n",
       "      <th>english</th>\n",
       "      <th>math</th>\n",
       "      <th>physics</th>\n",
       "      <th>chemistry</th>\n",
       "    </tr>\n",
       "    <tr>\n",
       "      <th>state_code</th>\n",
       "      <th></th>\n",
       "      <th></th>\n",
       "      <th></th>\n",
       "      <th></th>\n",
       "    </tr>\n",
       "  </thead>\n",
       "  <tbody>\n",
       "    <tr>\n",
       "      <th>sc1</th>\n",
       "      <td>1</td>\n",
       "      <td>2</td>\n",
       "      <td>0</td>\n",
       "      <td>1</td>\n",
       "    </tr>\n",
       "    <tr>\n",
       "      <th>sc10</th>\n",
       "      <td>1</td>\n",
       "      <td>1</td>\n",
       "      <td>0</td>\n",
       "      <td>0</td>\n",
       "    </tr>\n",
       "    <tr>\n",
       "      <th>sc2</th>\n",
       "      <td>1</td>\n",
       "      <td>0</td>\n",
       "      <td>1</td>\n",
       "      <td>1</td>\n",
       "    </tr>\n",
       "  </tbody>\n",
       "</table>\n",
       "</div>"
      ],
      "text/plain": [
       "            english  math  physics  chemistry\n",
       "state_code                                   \n",
       "sc1               1     2        0          1\n",
       "sc10              1     1        0          0\n",
       "sc2               1     0        1          1"
      ]
     },
     "execution_count": 85,
     "metadata": {},
     "output_type": "execute_result"
    }
   ],
   "source": [
    "import pandas as pd\n",
    "\n",
    "school = {'school_id': ['sch_1', 'sch_2', 'sch_3', 'sch_h', 'sch_5', 'sch_6'], 'state_code': ['!@sc_1', '))sc_2', '!@sc_2', 'sc_2)_', 'sc_1#@', 'sc_10#@'], 'subject': [\n",
    "    ['english', 'maths', 'chemistry'], ['english', 'physics', 'chemistry'], ['maths', 'biology'], ['french'], ['social_studies', 'maths', 'literature'], ['english', 'maths', 'history']]}\n",
    "df = pd.DataFrame(school)\n",
    "df['state_code'] = df['state_code'].str.replace('[^a-zA-Z0-9]', '', regex=True)\n",
    "df['subject'] = df['subject'].apply(lambda x: ','.join(map(str, x)))\n",
    "df['subject_count'] = df['subject'].str.split(',').apply(len)\n",
    "df = df[df['subject_count'] >= 3].drop(columns=['subject_count'])\n",
    "df['english'] = df['subject'].apply(lambda x: 'english' in x).astype(int)\n",
    "df['math'] = df['subject'].apply(lambda x: 'maths' in x).astype(int)\n",
    "df['physics'] = df['subject'].apply(lambda x: 'physics' in x).astype(int)\n",
    "df['chemistry'] = df['subject'].apply(lambda x: 'chemistry' in x).astype(int)\n",
    "df = df.drop(columns=['school_id', 'subject'])\n",
    "df.groupby(['state_code']).sum()\n",
    "# df\n"
   ]
  }
 ],
 "metadata": {
  "kernelspec": {
   "display_name": "Python 3",
   "language": "python",
   "name": "python3"
  },
  "language_info": {
   "name": "python",
   "version": "3.11.3"
  },
  "orig_nbformat": 4
 },
 "nbformat": 4,
 "nbformat_minor": 2
}
